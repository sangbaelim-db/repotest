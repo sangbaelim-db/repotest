{
 "cells": [
  {
   "cell_type": "code",
   "execution_count": 0,
   "metadata": {
    "application/vnd.databricks.v1+cell": {
     "cellMetadata": {
      "byteLimit": 2048000,
      "rowLimit": 10000
     },
     "inputWidgets": {},
     "nuid": "0a8f36a4-f69d-4b3e-9025-ab37ef25de28",
     "showTitle": false,
     "tableResultSettingsMap": {},
     "title": ""
    }
   },
   "outputs": [],
   "source": [
    "from pyspark.sql.functions import regexp_extract, col, from_json, to_timestamp, struct, transform, coalesce, array, size, expr\n",
    "from pyspark.sql.types import StringType, StructType, StructField, IntegerType, ArrayType\n",
    "\n",
    "from delta.tables import DeltaTable"
   ]
  },
  {
   "cell_type": "code",
   "execution_count": 0,
   "metadata": {
    "application/vnd.databricks.v1+cell": {
     "cellMetadata": {
      "byteLimit": 2048000,
      "rowLimit": 10000
     },
     "inputWidgets": {},
     "nuid": "2be05ad4-f2cd-43f8-9345-689aa10dc73e",
     "showTitle": false,
     "tableResultSettingsMap": {},
     "title": ""
    }
   },
   "outputs": [],
   "source": [
    "def save_to_delta(df, table_name):\n",
    "    base_delta_path = f\"s3://treenod-analytic-line-cleansed-data/delta/pkpk_line_improved/{table_name}\"\n",
    "    replace_dt = date_path.replace(\"/\", \"-\")\n",
    "    \n",
    "    df.write.format(\"delta\") \\\n",
    "        .partitionBy(\"dt\") \\\n",
    "        .mode(\"overwrite\") \\\n",
    "        .option(\"mergeSchema\", \"true\") \\\n",
    "        .option(\"optimizeWrite\", \"true\") \\\n",
    "        .option(\"replaceWhere\", f\"dt = '{replace_dt}'\") \\\n",
    "        .option(\"path\", f\"{base_delta_path}\") \\\n",
    "        .saveAsTable(f\"line.pkpk_line_improved.{table_name}\")"
   ]
  },
  {
   "cell_type": "code",
   "execution_count": 0,
   "metadata": {
    "application/vnd.databricks.v1+cell": {
     "cellMetadata": {
      "byteLimit": 2048000,
      "rowLimit": 10000
     },
     "inputWidgets": {},
     "nuid": "e2f341ff-74fe-487d-998d-fd62abd26ae3",
     "showTitle": false,
     "tableResultSettingsMap": {},
     "title": ""
    }
   },
   "outputs": [],
   "source": [
    "def restructure_schema(df, json_schema):\n",
    "    col_expr = []\n",
    "\n",
    "    for column in df.columns:\n",
    "        match column:\n",
    "            case \"params\":\n",
    "                col_expr.append(from_json(col(column), json_schema).alias(column))\n",
    "            case \"ts\": \n",
    "                col_expr.append(to_timestamp(col(column)).alias(column))\n",
    "            case _: \n",
    "                col_expr.append(col(column))\n",
    "\n",
    "    temp_df = df.select(col_expr)\n",
    "\n",
    "    final_struct_exprs = []\n",
    "    \n",
    "    for field in json_schema.fields:\n",
    "        field_name = field.name\n",
    "        new_field_name = field_name[2:].lower() if field_name.startswith(\"L_\") else field_name.lower()\n",
    "        \n",
    "        if isinstance(field.dataType, ArrayType) and isinstance(field.dataType.elementType, StructType):\n",
    "            struct_field_exprs = []\n",
    "            \n",
    "            for struct_field in field.dataType.elementType.fields:\n",
    "                orig_name = struct_field.name\n",
    "                new_name = orig_name[2:].lower() if orig_name.startswith(\"L_\") else orig_name.lower()\n",
    "                struct_field_exprs.append(f\"'{new_name}', element.{orig_name}\")\n",
    "            \n",
    "            array_transform_expr = f\"transform(params.{field_name}, element -> named_struct({', '.join(struct_field_exprs)})) as {new_field_name}\"\n",
    "            final_struct_exprs.append(array_transform_expr)\n",
    "        else:\n",
    "            final_struct_exprs.append(f\"params.{field_name} as {new_field_name}\")\n",
    "    \n",
    "    final_expr = [col for col in df.columns if col != \"params\"]\n",
    "    final_expr.append(expr(f\"struct({', '.join(final_struct_exprs)}) as params\"))\n",
    "    \n",
    "    return temp_df.select(final_expr)\n"
   ]
  },
  {
   "cell_type": "code",
   "execution_count": 0,
   "metadata": {
    "application/vnd.databricks.v1+cell": {
     "cellMetadata": {
      "byteLimit": 2048000,
      "rowLimit": 10000
     },
     "inputWidgets": {},
     "nuid": "f9358c67-d866-4146-869e-f3d9c0193a8f",
     "showTitle": false,
     "tableResultSettingsMap": {},
     "title": ""
    }
   },
   "outputs": [],
   "source": [
    "def run_achievement(df_origin):\n",
    "    df = df_origin.filter(col(\"event_name\") == \"ACHIEVEMENT\")\n",
    "\n",
    "    params_schema = StructType([\n",
    "        StructField(\"L_TAG\", StringType()),\n",
    "        StructField(\"L_ULV\", StringType()),\n",
    "        StructField(\"L_ANM\", StringType()),\n",
    "        StructField(\"L_ARLT\", StringType()),\n",
    "        StructField(\"L_CDT\", StringType()),\n",
    "        StructField(\"L_STR1\", StringType()),\n",
    "        StructField(\"L_STR2\", StringType())\n",
    "    ])\n",
    "    \n",
    "    df = restructure_schema(df, params_schema) \\\n",
    "        .filter(col(\"dt\").isNotNull())\n",
    "        \n",
    "    save_to_delta(df, \"achievement\")"
   ]
  },
  {
   "cell_type": "code",
   "execution_count": 0,
   "metadata": {
    "application/vnd.databricks.v1+cell": {
     "cellMetadata": {
      "byteLimit": 2048000,
      "rowLimit": 10000
     },
     "inputWidgets": {},
     "nuid": "ddea6b3f-50ef-4335-b493-4a430dca753a",
     "showTitle": false,
     "tableResultSettingsMap": {},
     "title": ""
    }
   },
   "outputs": [],
   "source": [
    "def run_advertisement(df_origin):\n",
    "    df = df_origin.filter(col(\"event_name\") == \"ADVERTISEMENT\")\n",
    "\n",
    "    params_schema = StructType([\n",
    "        StructField(\"L_TAG\", StringType()),\n",
    "        StructField(\"L_ULV\", StringType()),\n",
    "        StructField(\"L_PLACE\", StringType()),\n",
    "        StructField(\"L_ADUNIT\", StringType()),\n",
    "        StructField(\"L_ACTION\", StringType()),\n",
    "        StructField(\"L_CDT\", StringType())\n",
    "    ])\n",
    "\n",
    "    \n",
    "    df = restructure_schema(df, params_schema) \\\n",
    "        .filter(col(\"dt\").isNotNull())\n",
    "\n",
    "    save_to_delta(df, \"advertisement\")"
   ]
  },
  {
   "cell_type": "code",
   "execution_count": 0,
   "metadata": {
    "application/vnd.databricks.v1+cell": {
     "cellMetadata": {
      "byteLimit": 2048000,
      "rowLimit": 10000
     },
     "inputWidgets": {},
     "nuid": "884a5657-fdc1-4be9-9645-b5b9968e44bc",
     "showTitle": false,
     "tableResultSettingsMap": {},
     "title": ""
    }
   },
   "outputs": [],
   "source": [
    "def run_item(df_origin):\n",
    "    df = df_origin.filter(col(\"event_name\") == \"ITEM\")\n",
    "\n",
    "    params_schema = StructType([\n",
    "        StructField(\"L_LOGTYPE\", StringType()),\n",
    "        StructField(\"L_TAG\", StringType()),\n",
    "        StructField(\"L_MID\", StringType()),\n",
    "        StructField(\"L_ULV\", StringType()),\n",
    "        StructField(\"L_ITEM\", StringType()),\n",
    "        StructField(\"L_ILV\", StringType()),\n",
    "        StructField(\"L_ITEM_C\", IntegerType()),\n",
    "        StructField(\"L_EVT\", StringType()),\n",
    "        StructField(\"L_CDT\", StringType()),\n",
    "        StructField(\"L_STR1\", StringType()),\n",
    "        StructField(\"L_STR2\", StringType()),\n",
    "        StructField(\"L_STR3\", StringType()),\n",
    "        StructField(\"L_STR4\", StringType()),\n",
    "        StructField(\"L_STR5\", StringType()),\n",
    "        StructField(\"L_STR6\", StringType()),\n",
    "        StructField(\"L_STR7\", ArrayType(\n",
    "            StructType([\n",
    "                StructField(\"L_NAME\", StringType()),\n",
    "                StructField(\"L_VALUE\", StringType())\n",
    "                ])\n",
    "            )),\n",
    "        StructField(\"L_NUM1\", StringType()),\n",
    "    ])\n",
    "    \n",
    "    df = restructure_schema(df, params_schema) \\\n",
    "        .filter(col(\"dt\").isNotNull())\n",
    "\n",
    "    save_to_delta(df, \"item\")"
   ]
  },
  {
   "cell_type": "code",
   "execution_count": 0,
   "metadata": {
    "application/vnd.databricks.v1+cell": {
     "cellMetadata": {
      "byteLimit": 2048000,
      "rowLimit": 10000
     },
     "inputWidgets": {},
     "nuid": "d2d360dc-3355-4271-826c-eb9bb14ca7a5",
     "showTitle": false,
     "tableResultSettingsMap": {},
     "title": ""
    }
   },
   "outputs": [],
   "source": [
    "def run_money(df_origin):\n",
    "    df = df_origin.filter(col(\"event_name\") == \"MONEY\")\n",
    "\n",
    "    params_schema = StructType([\n",
    "        StructField(\"L_LOGTYPE\", StringType()),\n",
    "        StructField(\"L_TAG\", StringType()),\n",
    "        StructField(\"L_MID\", StringType()),\n",
    "        StructField(\"L_ULV\", StringType()),\n",
    "        StructField(\"L_MRSN\", StringType()),\n",
    "        StructField(\"L_MRSN_DTL\", StringType()),\n",
    "        StructField(\"L_EVT\", StringType()),\n",
    "        StructField(\"L_PMONEY_C\", IntegerType()),\n",
    "        StructField(\"L_FMONEY_C\", IntegerType()),\n",
    "        StructField(\"L_PMONEY_A\", IntegerType()),\n",
    "        StructField(\"L_FMONEY_A\", IntegerType()),\n",
    "        StructField(\"L_CDT\", StringType()),\n",
    "        StructField(\"L_STR1\", StringType()),\n",
    "        StructField(\"L_STR2\", StringType())\n",
    "    ])\n",
    "\n",
    "    df = restructure_schema(df, params_schema) \\\n",
    "        .filter(col(\"dt\").isNotNull())\n",
    "\n",
    "    save_to_delta(df, \"money\")"
   ]
  },
  {
   "cell_type": "code",
   "execution_count": 0,
   "metadata": {
    "application/vnd.databricks.v1+cell": {
     "cellMetadata": {
      "byteLimit": 2048000,
      "rowLimit": 10000
     },
     "inputWidgets": {},
     "nuid": "9297244a-17aa-4c89-9b8b-4ef8a9092d03",
     "showTitle": false,
     "tableResultSettingsMap": {},
     "title": ""
    }
   },
   "outputs": [],
   "source": [
    "def run_playend(df_origin):\n",
    "    df = df_origin.filter(col(\"event_name\") == \"PLAYEND\")\n",
    "\n",
    "    params_schema = StructType([\n",
    "        StructField(\"L_LOGTYPE\", StringType(), False),\n",
    "        StructField(\"L_TAG\", StringType(), False),\n",
    "        StructField(\"L_ULV\", StringType(), False),\n",
    "        StructField(\"L_ULV_S\", StringType()),\n",
    "        StructField(\"L_GMOD\", StringType()),\n",
    "        StructField(\"L_SCR\", IntegerType()),\n",
    "        StructField(\"L_CASH_G\", IntegerType()),\n",
    "        StructField(\"L_GOLD_G\", IntegerType()),\n",
    "        StructField(\"L_EXPR_G\", IntegerType()),\n",
    "        StructField(\"L_PTM\", IntegerType()),\n",
    "        StructField(\"L_STG\", StringType()),\n",
    "        StructField(\"L_PWIN\", StringType()),\n",
    "        StructField(\"L_CDT\", StringType()),\n",
    "        StructField(\"L_REP\", StringType()),\n",
    "        StructField(\"L_IREP\", StringType()),\n",
    "        StructField(\"L_RESTRTBUT\", StringType()),\n",
    "        StructField(\"L_CNTNE_ITEM\", ArrayType(\n",
    "            StructType([\n",
    "                StructField(\"L_CIID\", StringType()),\n",
    "                StructField(\"L_PRE_CLEAR\", StringType()),\n",
    "                StructField(\"L_1ST\", IntegerType()),\n",
    "                StructField(\"L_2ND\", IntegerType())\n",
    "            ])\n",
    "        )),\n",
    "        StructField(\"L_REPRSLT\", IntegerType()),\n",
    "        StructField(\"L_CHAR\", ArrayType(\n",
    "            StructType([\n",
    "                StructField(\"L_CID\", StringType()),\n",
    "                StructField(\"L_CLV\", StringType()),\n",
    "                StructField(\"L_HP\", IntegerType()),\n",
    "                StructField(\"L_CAGE\", IntegerType())\n",
    "            ])\n",
    "        )),\n",
    "        StructField(\"L_ITEM\", ArrayType(\n",
    "            StructType([\n",
    "                StructField(\"L_IID\", StringType()),\n",
    "                StructField(\"L_FREE\", StringType()),\n",
    "                StructField(\"L_CNT\", IntegerType()),\n",
    "                StructField(\"L_CONTINUE\", IntegerType())\n",
    "            ])\n",
    "        )),\n",
    "        StructField(\"L_SITEM\", ArrayType(\n",
    "            StructType([\n",
    "                StructField(\"L_SIID\", StringType()),\n",
    "                StructField(\"L_FREE\", StringType()),\n",
    "                StructField(\"L_TIME\", StringType()),\n",
    "                StructField(\"L_BOOSTING\", StringType()),\n",
    "                StructField(\"L_CNT\", IntegerType())\n",
    "            ])\n",
    "        )),\n",
    "        # 24.10.24) 문서에는 number로 되어있으나 \"Y\" / \"N\"이 들어오는 것으로 확인\n",
    "        StructField(\"L_IS_BEST_SCORE\", StringType()),\n",
    "        StructField(\"L_STAGE_PCNT\", IntegerType()),\n",
    "        StructField(\"L_STAGE_CLEARCNT\", IntegerType()),\n",
    "        StructField(\"L_USER_GP\", ArrayType(\n",
    "            StructType([\n",
    "                StructField(\"L_GID\", StringType())\n",
    "            ])\n",
    "        )),\n",
    "        # 실제 리스트로 들어오고 있음. L_ITEM : 아이템 종류 / L_ITEM_C : 아이템 변동량 / etc ..\n",
    "        # 문서와 상이한 구성으로 어떤 KEY가 들어올지 예상이 불가하여 udf로 해결할 수 밖에 없는데, 자원이 과하게 소모될 여지가 있음\n",
    "        # 1. playend는 매일 주기적으로 들어오는 데이터이고, 각각의 레코드는 서로 다른 key를 가지고 있을 가능성이 있음\n",
    "        # 2. 모든 레코드에 대해 L_STR1을 파싱하여 KEY, VALUE를 잡아내는 작업을 해야함\n",
    "        # 3. 이렇게 잡아낸 KEY로 동적인 스키마를 구성해야함\n",
    "        # 4. 읽는 시점에는 schema-on-read로 인해 존재하지 않는 값에 대해 쿼리는 실행 가능하며 NULL을 반환하게 될 것\n",
    "        # 24.11.28) StringType()으로 결정\n",
    "        StructField(\"L_STR1\", StringType()),\n",
    "        StructField(\"L_STR2\", StringType()),\n",
    "        StructField(\"L_STR3\", StringType()),\n",
    "        StructField(\"L_STR4\", StringType()),\n",
    "        StructField(\"L_STR5\", StringType()),\n",
    "        # L_STR6인지 L_GOAL인지 확인 필요 -> 노튼 확인 결과 이 경우 엑셀 내에서 왼쪽에 컬럼으로 명시된 것이 더 정확도가 높다고 함.\n",
    "        StructField(\"L_STR6\", ArrayType( \n",
    "            StructType([\n",
    "                StructField(\"L_NAME\", StringType()),\n",
    "                StructField(\"L_INITIAL\", IntegerType()),\n",
    "                StructField(\"L_END\", IntegerType())\n",
    "            ])\n",
    "        )),\n",
    "        StructField(\"L_STR7\", StringType()),\n",
    "        StructField(\"L_STR8\", StringType()),\n",
    "        StructField(\"L_STR9\", ArrayType(\n",
    "            StructType([\n",
    "                StructField(\"L_NAME\", StringType()),\n",
    "                # 24.10.24) Integer로 기재되어 있지만 실제 String or Integer 입력 -> String으로 지정하고, Integer는 변환해서 써야할듯 함\n",
    "                StructField(\"L_VALUE\", StringType())\n",
    "            ])\n",
    "        )),\n",
    "        StructField(\"L_NUM1\", IntegerType()),\n",
    "        StructField(\"L_NUM2\", IntegerType()),\n",
    "        StructField(\"L_NUM3\", IntegerType()),\n",
    "        StructField(\"L_NUM4\", IntegerType()),\n",
    "        StructField(\"L_NUM5\", IntegerType()),\n",
    "        StructField(\"L_CREATE_BOMB\", StringType())\n",
    "    ])\n",
    "\n",
    "    df = restructure_schema(df, params_schema) \\\n",
    "        .filter(col(\"dt\").isNotNull())\n",
    "\n",
    "    save_to_delta(df, \"playend\")"
   ]
  },
  {
   "cell_type": "code",
   "execution_count": 0,
   "metadata": {
    "application/vnd.databricks.v1+cell": {
     "cellMetadata": {
      "byteLimit": 2048000,
      "rowLimit": 10000
     },
     "inputWidgets": {},
     "nuid": "1b748613-e62d-4f92-af8b-68111a7d2d4a",
     "showTitle": false,
     "tableResultSettingsMap": {},
     "title": ""
    }
   },
   "outputs": [],
   "source": [
    "def run_playstart(df_origin):\n",
    "    df = df_origin.filter(col(\"event_name\") == \"PLAYSTART\")\n",
    "\n",
    "    params_schema = StructType([\n",
    "        StructField(\"L_LOGTYPE\", StringType(), False),\n",
    "        StructField(\"L_TAG\", StringType(), False),\n",
    "        StructField(\"L_ULV\", StringType(), False),\n",
    "        StructField(\"L_GMOD\", StringType()),\n",
    "        StructField(\"L_SCR\", IntegerType()),\n",
    "        StructField(\"L_STG\", StringType()),\n",
    "        StructField(\"L_PWIN\", StringType()),\n",
    "        StructField(\"L_REP\", StringType()),\n",
    "        StructField(\"L_RESTRTBUT\", StringType()),\n",
    "        # 24.10.24) 문서에는 number로 되어있으나 \"0\", \"1\" 등의 String으로 들어오는 것 확인. PLAYEND 이벤트에서는 number로 들어옴\n",
    "        StructField(\"L_REPRSLT\", StringType()),\n",
    "        StructField(\"L_CHAR\", ArrayType(\n",
    "            StructType([\n",
    "                StructField(\"L_CID\", StringType()),\n",
    "                StructField(\"L_CLV\", StringType()),\n",
    "                StructField(\"L_HP\", IntegerType()),\n",
    "                StructField(\"L_CAGE\", IntegerType())\n",
    "            ])\n",
    "        )),\n",
    "        StructField(\"L_SITEM\", ArrayType(\n",
    "            StructType([\n",
    "                StructField(\"L_SIID\", StringType()),\n",
    "                StructField(\"L_FREE\", StringType()),\n",
    "                StructField(\"L_TIME\", StringType()),\n",
    "                StructField(\"L_BOOSTING\", StringType()),\n",
    "                StructField(\"L_CNT\", IntegerType())\n",
    "            ])\n",
    "        )),\n",
    "        StructField(\"L_STAGE_PCNT\", IntegerType()),\n",
    "        StructField(\"L_STAGE_CLEARCNT\", IntegerType()),\n",
    "        StructField(\"L_CHPMISS_CLEARYN\", StringType()),\n",
    "        StructField(\"L_USER_GP\", ArrayType(\n",
    "            StructType([\n",
    "                StructField(\"L_GID\", StringType())\n",
    "            ])\n",
    "        )),\n",
    "        StructField(\"L_CDT\", StringType()),\n",
    "        StructField(\"L_STR3\", StringType()),\n",
    "        StructField(\"L_STR4\", StringType()),\n",
    "        StructField(\"L_STR5\", StringType()),\n",
    "        StructField(\"L_STR6\", StringType()),\n",
    "        StructField(\"L_STR7\", StringType()),\n",
    "        StructField(\"L_STR8\", ArrayType(\n",
    "            StructType([\n",
    "                StructField(\"L_NAME\", StringType()),\n",
    "                StructField(\"L_VALUE\", StringType())\n",
    "            ])\n",
    "        ))\n",
    "    ])\n",
    "\n",
    "    df = restructure_schema(df, params_schema) \\\n",
    "        .filter(col(\"dt\").isNotNull())\n",
    "\n",
    "    save_to_delta(df, \"playstart\")"
   ]
  },
  {
   "cell_type": "code",
   "execution_count": 0,
   "metadata": {
    "application/vnd.databricks.v1+cell": {
     "cellMetadata": {
      "byteLimit": 2048000,
      "rowLimit": 10000
     },
     "inputWidgets": {},
     "nuid": "697c1987-c2b9-48a0-b755-f1164d1cbb79",
     "showTitle": false,
     "tableResultSettingsMap": {},
     "title": ""
    }
   },
   "outputs": [],
   "source": [
    "def run_social(df_origin):\n",
    "    df = df_origin.filter(col(\"event_name\") == \"SOCIAL\")\n",
    "\n",
    "    params_schema = StructType([\n",
    "        StructField(\"L_LOGTYPE\", StringType()),\n",
    "        StructField(\"L_TAG\", StringType()),\n",
    "        StructField(\"L_MID\", StringType()),\n",
    "        StructField(\"L_ULV\", StringType()),\n",
    "        StructField(\"L_FRN_MID\", StringType()),\n",
    "        StructField(\"L_CDT\", StringType()),\n",
    "        StructField(\"L_STR1\", StringType())\n",
    "    ])\n",
    "\n",
    "    df = restructure_schema(df, params_schema) \\\n",
    "        .filter(col(\"dt\").isNotNull())\n",
    "\n",
    "    save_to_delta(df, \"social\")"
   ]
  },
  {
   "cell_type": "code",
   "execution_count": 0,
   "metadata": {
    "application/vnd.databricks.v1+cell": {
     "cellMetadata": {
      "byteLimit": 2048000,
      "rowLimit": 10000
     },
     "inputWidgets": {},
     "nuid": "bf7ae8cd-c9e8-4eed-9f3c-0504283cc8cc",
     "showTitle": false,
     "tableResultSettingsMap": {},
     "title": ""
    }
   },
   "outputs": [],
   "source": [
    "def run_specific_gacha(df_origin):\n",
    "    df = df_origin.filter((col(\"event_name\") == \"SPECIFIC\"))\n",
    "\n",
    "    params_schema = StructType([\n",
    "        StructField(\"L_LOGTYPE\", StringType()),\n",
    "        StructField(\"L_TAG\", StringType()),\n",
    "        StructField(\"L_MID\", StringType()),\n",
    "        StructField(\"L_ULV\", StringType()),\n",
    "        StructField(\"L_CDT\", StringType()),\n",
    "        StructField(\"L_STR1\", StringType())\n",
    "    ])\n",
    "\n",
    "    df = restructure_schema(df, params_schema) \\\n",
    "        .filter(col(\"params.logtype\") == \"GACHA\") \\\n",
    "        .filter(col(\"dt\").isNotNull())\n",
    "\n",
    "    save_to_delta(df, \"specific_gacha\")\n"
   ]
  },
  {
   "cell_type": "code",
   "execution_count": 0,
   "metadata": {
    "application/vnd.databricks.v1+cell": {
     "cellMetadata": {
      "byteLimit": 2048000,
      "rowLimit": 10000
     },
     "inputWidgets": {},
     "nuid": "47f4cf69-f0d1-4e9e-96cd-507b63a094e0",
     "showTitle": false,
     "tableResultSettingsMap": {},
     "title": ""
    }
   },
   "outputs": [],
   "source": [
    "def run_specific_level(df_origin):\n",
    "    df = df_origin.filter((col(\"event_name\") == \"SPECIFIC\"))\n",
    "\n",
    "    params_schema = StructType([\n",
    "        StructField(\"L_LOGTYPE\", StringType()),\n",
    "        StructField(\"L_TAG\", StringType()),\n",
    "        StructField(\"L_MID\", StringType()),\n",
    "        StructField(\"L_ULV\", StringType()),\n",
    "        StructField(\"L_CDT\", StringType()),\n",
    "        StructField(\"L_STR1\", ArrayType(\n",
    "            StructType([\n",
    "                StructField(\"L_IID\", StringType()),\n",
    "                StructField(\"L_FREE\", StringType()),\n",
    "                StructField(\"L_CNT\", StringType())\n",
    "            ])\n",
    "        )),\n",
    "        StructField(\"L_STR2\", StringType()),\n",
    "        StructField(\"L_STR3\", StringType()),\n",
    "    ])\n",
    "\n",
    "    df = restructure_schema(df, params_schema) \\\n",
    "        .filter(col(\"params.logtype\") == \"LEVEL\") \\\n",
    "        .filter(col(\"dt\").isNotNull())\n",
    "\n",
    "    save_to_delta(df, \"specific_level\")"
   ]
  },
  {
   "cell_type": "code",
   "execution_count": 0,
   "metadata": {
    "application/vnd.databricks.v1+cell": {
     "cellMetadata": {
      "byteLimit": 2048000,
      "rowLimit": 10000
     },
     "inputWidgets": {},
     "nuid": "b3e79be5-9bb7-4196-812f-e3deb13424b9",
     "showTitle": false,
     "tableResultSettingsMap": {},
     "title": ""
    }
   },
   "outputs": [],
   "source": [
    "date_path = dbutils.widgets.get(\"date_path\")\n",
    "# date_path = \"2025/03/01\"\n",
    "input_path = f\"s3a://treenod-line-game-data/LGPKPK/EVENT/{date_path}/\"\n",
    "\n",
    "df = spark.read.format(\"json\").options(\n",
    "            inferSchema=\"true\",\n",
    "            compression=\"snappy\",\n",
    "            pathGlobFilter=\"*.snappy\",\n",
    "            recursiveFileLookup=\"true\"\n",
    "        ).load(input_path) \\\n",
    "        .distinct()"
   ]
  },
  {
   "cell_type": "code",
   "execution_count": 0,
   "metadata": {
    "application/vnd.databricks.v1+cell": {
     "cellMetadata": {
      "byteLimit": 2048000,
      "rowLimit": 10000
     },
     "inputWidgets": {},
     "nuid": "36f4a103-11a2-4197-86b9-2e3ad4192565",
     "showTitle": false,
     "tableResultSettingsMap": {},
     "title": ""
    }
   },
   "outputs": [],
   "source": [
    "df = df.select(\n",
    "    \"*\",\n",
    "    regexp_extract(col(\"ts\"), r\"(\\d{4}-\\d{2}-\\d{2})T\", 1).alias(\"dt\")\n",
    ")\n",
    "\n",
    "# serverless에서 동작하지 않음\n",
    "df.cache()"
   ]
  },
  {
   "cell_type": "code",
   "execution_count": 0,
   "metadata": {
    "application/vnd.databricks.v1+cell": {
     "cellMetadata": {
      "byteLimit": 2048000,
      "rowLimit": 10000
     },
     "inputWidgets": {},
     "nuid": "30b4d937-9b84-435b-bd11-82d35f33b1b9",
     "showTitle": false,
     "tableResultSettingsMap": {},
     "title": ""
    }
   },
   "outputs": [],
   "source": [
    "run_achievement(df)"
   ]
  },
  {
   "cell_type": "code",
   "execution_count": 0,
   "metadata": {
    "application/vnd.databricks.v1+cell": {
     "cellMetadata": {
      "byteLimit": 2048000,
      "rowLimit": 10000
     },
     "inputWidgets": {},
     "nuid": "0a329ce4-6675-4173-936d-31199df7ce51",
     "showTitle": false,
     "tableResultSettingsMap": {},
     "title": ""
    }
   },
   "outputs": [],
   "source": [
    "run_advertisement(df)"
   ]
  },
  {
   "cell_type": "code",
   "execution_count": 0,
   "metadata": {
    "application/vnd.databricks.v1+cell": {
     "cellMetadata": {
      "byteLimit": 2048000,
      "rowLimit": 10000
     },
     "inputWidgets": {},
     "nuid": "367a060a-a2fc-4edc-8914-a8670658df33",
     "showTitle": false,
     "tableResultSettingsMap": {},
     "title": ""
    }
   },
   "outputs": [],
   "source": [
    "run_item(df)"
   ]
  },
  {
   "cell_type": "code",
   "execution_count": 0,
   "metadata": {
    "application/vnd.databricks.v1+cell": {
     "cellMetadata": {
      "byteLimit": 2048000,
      "rowLimit": 10000
     },
     "inputWidgets": {},
     "nuid": "aed6b9eb-9412-4047-bfae-1427288a6398",
     "showTitle": false,
     "tableResultSettingsMap": {},
     "title": ""
    }
   },
   "outputs": [],
   "source": [
    "run_money(df)"
   ]
  },
  {
   "cell_type": "code",
   "execution_count": 0,
   "metadata": {
    "application/vnd.databricks.v1+cell": {
     "cellMetadata": {
      "byteLimit": 2048000,
      "rowLimit": 10000
     },
     "inputWidgets": {},
     "nuid": "a31d14a4-698b-4afc-b32f-6a6ef9cab3f8",
     "showTitle": false,
     "tableResultSettingsMap": {},
     "title": ""
    }
   },
   "outputs": [],
   "source": [
    "run_playend(df)"
   ]
  },
  {
   "cell_type": "code",
   "execution_count": 0,
   "metadata": {
    "application/vnd.databricks.v1+cell": {
     "cellMetadata": {
      "byteLimit": 2048000,
      "rowLimit": 10000
     },
     "inputWidgets": {},
     "nuid": "4d736237-852a-405a-a021-041feb76f4a2",
     "showTitle": false,
     "tableResultSettingsMap": {},
     "title": ""
    }
   },
   "outputs": [],
   "source": [
    "run_playstart(df)"
   ]
  },
  {
   "cell_type": "code",
   "execution_count": 0,
   "metadata": {
    "application/vnd.databricks.v1+cell": {
     "cellMetadata": {
      "byteLimit": 2048000,
      "rowLimit": 10000
     },
     "inputWidgets": {},
     "nuid": "275adff2-c303-41f9-9af4-1b6558f80c35",
     "showTitle": false,
     "tableResultSettingsMap": {},
     "title": ""
    }
   },
   "outputs": [],
   "source": [
    "run_social(df)"
   ]
  },
  {
   "cell_type": "code",
   "execution_count": 0,
   "metadata": {
    "application/vnd.databricks.v1+cell": {
     "cellMetadata": {
      "byteLimit": 2048000,
      "rowLimit": 10000
     },
     "inputWidgets": {},
     "nuid": "2b68b624-f4f9-480f-b077-a75e0a7833c6",
     "showTitle": false,
     "tableResultSettingsMap": {},
     "title": ""
    }
   },
   "outputs": [],
   "source": [
    "run_specific_gacha(df)"
   ]
  },
  {
   "cell_type": "code",
   "execution_count": 0,
   "metadata": {
    "application/vnd.databricks.v1+cell": {
     "cellMetadata": {
      "byteLimit": 2048000,
      "rowLimit": 10000
     },
     "inputWidgets": {},
     "nuid": "93ce4fef-e151-488e-8084-d1142bbc4889",
     "showTitle": false,
     "tableResultSettingsMap": {},
     "title": ""
    }
   },
   "outputs": [],
   "source": [
    "run_specific_level(df)"
   ]
  },
  {
   "cell_type": "code",
   "execution_count": 0,
   "metadata": {
    "application/vnd.databricks.v1+cell": {
     "cellMetadata": {
      "byteLimit": 2048000,
      "rowLimit": 10000
     },
     "inputWidgets": {},
     "nuid": "d9bebd17-841d-4141-97a5-417c3bf002d5",
     "showTitle": false,
     "tableResultSettingsMap": {},
     "title": ""
    }
   },
   "outputs": [],
   "source": [
    "df.unpersist()"
   ]
  }
 ],
 "metadata": {
  "application/vnd.databricks.v1+notebook": {
   "computePreferences": null,
   "dashboards": [],
   "environmentMetadata": {
    "base_environment": "",
    "environment_version": "2"
   },
   "language": "python",
   "notebookMetadata": {
    "pythonIndentUnit": 4
   },
   "notebookName": "silver_event",
   "widgets": {}
  },
  "language_info": {
   "name": "python"
  }
 },
 "nbformat": 4,
 "nbformat_minor": 0
}
